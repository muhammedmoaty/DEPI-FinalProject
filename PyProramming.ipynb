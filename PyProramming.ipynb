{
 "cells": [
  {
   "cell_type": "code",
   "execution_count": 24,
   "id": "3ac1642a-bd39-4dd3-9273-616c7e8b5cdc",
   "metadata": {},
   "outputs": [
    {
     "name": "stdout",
     "output_type": "stream",
     "text": [
      "   customer_id    customer_name  age  gender\n",
      "0            1    Dominic Cline   67  Female\n",
      "1            2      Crystal Day   42  Female\n",
      "2            3     Joseph Perez   31    Male\n",
      "3            4       Wyatt Love   37    Male\n",
      "4            5  Shannon Hoffman   24  Female\n"
     ]
    },
    {
     "name": "stderr",
     "output_type": "stream",
     "text": [
      "C:\\Users\\DEll\\AppData\\Local\\Temp\\ipykernel_15092\\2993459995.py:19: UserWarning: pandas only supports SQLAlchemy connectable (engine/connection) or database string URI or sqlite3 DBAPI2 connection. Other DBAPI2 objects are not tested. Please consider using SQLAlchemy.\n",
      "  customers_df = pd.read_sql(query, conn)\n"
     ]
    }
   ],
   "source": [
    "import pyodbc\n",
    "import pandas as pd\n",
    "\n",
    "# Define your connection string\n",
    "connection_string = (\n",
    "    \"DRIVER={ODBC Driver 17 for SQL Server};\"\n",
    "    \"SERVER=DESKTOP-VBOJIT8\\\\SQLEXPRESS01;\"\n",
    "    \"DATABASE=Customer Data Management;\"\n",
    "    \"Trusted_Connection=yes;\"\n",
    ")\n",
    "\n",
    "# Create a connection\n",
    "conn = pyodbc.connect(connection_string)\n",
    "\n",
    "# Define your query\n",
    "query = \"SELECT TOP 5 * FROM customers\"\n",
    "\n",
    "# Execute the query and load the data into a DataFrame\n",
    "customers_df = pd.read_sql(query, conn)\n",
    "\n",
    "# Close the connection\n",
    "conn.close()\n",
    "\n",
    "# Print the DataFrame\n",
    "print(customers_df)\n"
   ]
  },
  {
   "cell_type": "code",
   "execution_count": 25,
   "id": "b60a4bb4-4bab-4c64-ba5d-58a5523441ce",
   "metadata": {},
   "outputs": [
    {
     "name": "stdout",
     "output_type": "stream",
     "text": [
      "customer_id      0\n",
      "customer_name    0\n",
      "age              0\n",
      "gender           0\n",
      "dtype: int64\n"
     ]
    }
   ],
   "source": [
    "# Check for missing values\n",
    "print(customers_df.isnull().sum())"
   ]
  },
  {
   "cell_type": "code",
   "execution_count": 26,
   "id": "eb03956d-fc4b-4d7f-8d98-f33bc29ba7d0",
   "metadata": {},
   "outputs": [
    {
     "data": {
      "image/png": "[encoded data removed]",
      "text/plain": [
       "<Figure size 640x480 with 1 Axes>"
      ]
     },
     "metadata": {},
     "output_type": "display_data"
    }
   ],
   "source": [
    "# Basic statistical analysis\n",
    "summary = customers_df.describe()\n",
    "\n",
    "# Example of visualizing data using matplotlib or seaborn\n",
    "import matplotlib.pyplot as plt\n",
    "import seaborn as sns\n",
    "\n",
    "# Example: Histogram of a specific column\n",
    "plt.hist(customers_df['customer_name'])\n",
    "plt.title('Distribution of Column Name')\n",
    "plt.xlabel('Column Name')\n",
    "plt.ylabel('Frequency')\n",
    "plt.show()"
   ]
  },
  {
   "cell_type": "code",
   "execution_count": 27,
   "id": "767a2e74-f544-45bd-bcb3-c092cde8f9c4",
   "metadata": {},
   "outputs": [
    {
     "data": {
      "text/plain": [
       "5"
      ]
     },
     "execution_count": 27,
     "metadata": {},
     "output_type": "execute_result"
    }
   ],
   "source": [
    "# Export the cleaned DataFrame to a new CSV file\n",
    "customers_df.to_csv('cleaned_customers_data.csv', index=False)\n",
    "\n",
    "# Using the to_sql method (requires SQLAlchemy)\n",
    "from sqlalchemy import create_engine\n",
    "\n",
    "# Create a SQLAlchemy engine\n",
    "engine = create_engine('mssql+pyodbc://DESKTOP-VBOJIT8\\\n",
    "                        SQLEXPRESS01/Customer Data Management?driver=ODBC+Driver+17+for+SQL+Server')\n",
    "\n",
    "# Save the DataFrame to a SQL table\n",
    "customers_df.to_sql('cleaned_customers', engine, index=False, if_exists='replace')"
   ]
  },
  {
   "cell_type": "code",
   "execution_count": null,
   "id": "902115e8-c8f4-476a-b6f5-63f6e162fd1e",
   "metadata": {},
   "outputs": [],
   "source": []
  }
 ],
 "metadata": {
  "kernelspec": {
   "display_name": "Python 3 (ipykernel)",
   "language": "python",
   "name": "python3"
  },
  "language_info": {
   "codemirror_mode": {
    "name": "ipython",
    "version": 3
   },
   "file_extension": ".py",
   "mimetype": "text/x-python",
   "name": "python",
   "nbconvert_exporter": "python",
   "pygments_lexer": "ipython3",
   "version": "3.11.7"
  }
 },
 "nbformat": 4,
 "nbformat_minor": 5
}
